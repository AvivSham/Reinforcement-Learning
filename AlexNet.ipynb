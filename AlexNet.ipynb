{
  "nbformat": 4,
  "nbformat_minor": 0,
  "metadata": {
    "colab": {
      "name": "AlexNet.ipynb",
      "version": "0.3.2",
      "provenance": []
    },
    "kernelspec": {
      "name": "python3",
      "display_name": "Python 3"
    },
    "accelerator": "GPU"
  },
  "cells": [
    {
      "metadata": {
        "id": "jaaEQyjR_sHQ",
        "colab_type": "text"
      },
      "cell_type": "markdown",
      "source": [
        "## Function that builds the famous AlexNet model according to the ImageNet Classification paper"
      ]
    },
    {
      "metadata": {
        "id": "TeTZISuFzY_w",
        "colab_type": "code",
        "colab": {}
      },
      "cell_type": "code",
      "source": [
        "import numpy as np\n",
        "from keras.layers import MaxPooling2D, Dense, Conv2D, BatchNormalization, Flatten, Dropout\n",
        "from keras.models import Input, Model"
      ],
      "execution_count": 0,
      "outputs": []
    },
    {
      "metadata": {
        "id": "JhVG0Tjx0XKt",
        "colab_type": "code",
        "colab": {}
      },
      "cell_type": "code",
      "source": [
        "def AlexNet(input_shape):\n",
        "  \n",
        "  # Input\n",
        "  input_lay = Input(shape = input_shape)\n",
        "  \n",
        "  # Layer 1\n",
        "  con1 = Conv2D(filters = 96, kernel_size = 11, activation = 'relu', padding = 'same')(input_lay)\n",
        "  con1_norm = BatchNormalization()(con1)\n",
        "  pool1 = MaxPooling2D(pool_size = 3)(con1_norm)\n",
        "  \n",
        "  # Layer 2\n",
        "  con2 = Conv2D(filters = 256, kernel_size = 5, activation = 'relu', padding = 'same')(pool1)\n",
        "  con2_norm = BatchNormalization()(con2)\n",
        "  pool2 = MaxPooling2D(pool_size = 3)(con2_norm)\n",
        "  \n",
        "  # Layer 3\n",
        "  con3 = Conv2D(filters = 384, kernel_size = 3, activation = 'relu', padding = 'same')(pool2)\n",
        "  con3_norm = BatchNormalization()(con3)\n",
        "  pool3 = MaxPooling2D(pool_size = 3)(con3_norm)\n",
        "  \n",
        "  # Layer 4\n",
        "  con4 = Conv2D(filters = 384, kernel_size = 3, activation = 'relu', padding = 'same')(pool3)\n",
        "  con4_norm = BatchNormalization()(con4)\n",
        "  pool4 = MaxPooling2D(pool_size = 3)(con4_norm)\n",
        "  \n",
        "  # Layer 5\n",
        "  con5 = Conv2D(filters = 256, kernel_size = 3, activation = 'relu', padding = 'same')(pool4)\n",
        "  con5_norm = BatchNormalization()(con5)\n",
        "  pool5 = MaxPooling2D(pool_size = 3)(con5_norm)\n",
        "  \n",
        "  # Dense 1\n",
        "  flat = Flatten()(pool5)\n",
        "  dense1 = Dense(units = 4096, activation = 'relu')(flat)\n",
        "  dense1_norm = BatchNormalization()(dense1)\n",
        "  dense1_drop = Dropout(0.5)(dense1_norm)\n",
        "  \n",
        "  # Dense 2\n",
        "  dense2 = Dense(units = 4096, activation = 'relu')(dense1_norm)\n",
        "  dense2_norm = BatchNormalization()(dense2)\n",
        "  dense2_drop = Dropout(0.5)(dense2_norm)\n",
        "  # Predicrtions --> Output\n",
        "  preds = Dense(units = 1000, activation = 'softmax')(dense2_norm)\n",
        "  \n",
        "  AlexNet_Model=Model(inputs = input_lay, outputs = preds)\n",
        "  \n",
        "  return AlexNet_Model\n",
        "\n",
        "\n",
        "  "
      ],
      "execution_count": 0,
      "outputs": []
    }
  ]
}